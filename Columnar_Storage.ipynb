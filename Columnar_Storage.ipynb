{
  "nbformat": 4,
  "nbformat_minor": 0,
  "metadata": {
    "colab": {
      "name": "Columnar_Storage.ipynb",
      "provenance": [],
      "collapsed_sections": []
    },
    "kernelspec": {
      "name": "python3",
      "display_name": "Python 3"
    }
  },
  "cells": [
    {
      "cell_type": "code",
      "metadata": {
        "id": "xtYOTaT78sq4",
        "colab_type": "code",
        "colab": {}
      },
      "source": [
        "# Columnar Storage\n",
        "import pandas as pd"
      ],
      "execution_count": 0,
      "outputs": []
    },
    {
      "cell_type": "markdown",
      "metadata": {
        "id": "XiBWU1z-ZVnu",
        "colab_type": "text"
      },
      "source": [
        "Dataset Source: \n",
        "\n",
        "\n",
        "https://www.kaggle.com/AnalyzeBoston/crimes-in-boston/downloads/crimes-in-boston.zip/2\n",
        "\n",
        "\n",
        "Descarga los datos, se encuentran en formato zip y despues cargalos en tu ambiente de colab"
      ]
    },
    {
      "cell_type": "code",
      "metadata": {
        "id": "EWW8YrX19imu",
        "colab_type": "code",
        "outputId": "dccdce0e-807a-4860-9807-6d2f7d99287e",
        "colab": {
          "base_uri": "https://localhost:8080/",
          "height": 68
        }
      },
      "source": [
        "!unzip crimes-in-boston.zip"
      ],
      "execution_count": 0,
      "outputs": [
        {
          "output_type": "stream",
          "text": [
            "Archive:  crimes-in-boston.zip\n",
            "  inflating: crime.csv               \n",
            "  inflating: offense_codes.csv       \n"
          ],
          "name": "stdout"
        }
      ]
    },
    {
      "cell_type": "code",
      "metadata": {
        "id": "Ec3DICCc8yGR",
        "colab_type": "code",
        "outputId": "c07241bc-f315-47ea-c8e4-fba920ea657d",
        "colab": {
          "base_uri": "https://localhost:8080/",
          "height": 102
        }
      },
      "source": [
        "!ls -lh"
      ],
      "execution_count": 0,
      "outputs": [
        {
          "output_type": "stream",
          "text": [
            "total 66M\n",
            "-rw-r--r-- 1 root root  56M Oct  5 04:23 crime.csv\n",
            "-rw-r--r-- 1 root root  11M Feb 15 13:00 crimes-in-boston.zip\n",
            "-rw-r--r-- 1 root root  19K Oct  5 04:23 offense_codes.csv\n",
            "drwxr-xr-x 1 root root 4.0K Feb  5 18:37 sample_data\n"
          ],
          "name": "stdout"
        }
      ]
    },
    {
      "cell_type": "code",
      "metadata": {
        "id": "xVkF8tg492K-",
        "colab_type": "code",
        "colab": {}
      },
      "source": [
        "df_crimes = pd.read_csv('crime.csv',  encoding='latin-1')"
      ],
      "execution_count": 0,
      "outputs": []
    },
    {
      "cell_type": "code",
      "metadata": {
        "id": "ZLv3VqVp-Pdw",
        "colab_type": "code",
        "colab": {}
      },
      "source": [
        "print(df_crimes.shape)\n",
        "df_crimes.head()"
      ],
      "execution_count": 0,
      "outputs": []
    },
    {
      "cell_type": "code",
      "metadata": {
        "id": "HOq0MfNu-pKy",
        "colab_type": "code",
        "colab": {}
      },
      "source": [
        "# Vamos a escribir el dataset en un archivo parquet\n",
        "df_crimes.to_parquet('crimes.parquet', engine='auto', compression='snappy' ,  )"
      ],
      "execution_count": 0,
      "outputs": []
    },
    {
      "cell_type": "code",
      "metadata": {
        "id": "mmmV9aM--xAv",
        "colab_type": "code",
        "outputId": "366797e5-3efd-44ff-8a76-5e587ef2c458",
        "colab": {
          "base_uri": "https://localhost:8080/",
          "height": 119
        }
      },
      "source": [
        "!ls -lh"
      ],
      "execution_count": 0,
      "outputs": [
        {
          "output_type": "stream",
          "text": [
            "total 74M\n",
            "-rw-r--r-- 1 root root  56M Oct  5 04:23 crime.csv\n",
            "-rw-r--r-- 1 root root  11M Feb 15 13:00 crimes-in-boston.zip\n",
            "-rw-r--r-- 1 root root 7.8M Feb 15 13:03 crimes.parquet\n",
            "-rw-r--r-- 1 root root  19K Oct  5 04:23 offense_codes.csv\n",
            "drwxr-xr-x 1 root root 4.0K Feb  5 18:37 sample_data\n"
          ],
          "name": "stdout"
        }
      ]
    },
    {
      "cell_type": "code",
      "metadata": {
        "id": "ZfxRxnQV_6qh",
        "colab_type": "code",
        "colab": {}
      },
      "source": [
        "# Vamos a escribir el dataset en un archivo parquet\n",
        "df_crimes.to_parquet('crimes.parquet_year', engine='auto', compression='snappy' , partition_cols=['YEAR']  )"
      ],
      "execution_count": 0,
      "outputs": []
    },
    {
      "cell_type": "code",
      "metadata": {
        "id": "cJuCtlsZ-cW_",
        "colab_type": "code",
        "outputId": "1844e046-8911-446d-b7e3-0745040029f0",
        "colab": {
          "base_uri": "https://localhost:8080/",
          "height": 643
        }
      },
      "source": [
        "# Para verificar, carguemos nuevamente el dataset\n",
        "import pyarrow.parquet as pq\n",
        "data = pq.read_pandas('crimes.parquet').to_pandas()\n",
        "data"
      ],
      "execution_count": 0,
      "outputs": [
        {
          "output_type": "execute_result",
          "data": {
            "text/html": [
              "<div>\n",
              "<style scoped>\n",
              "    .dataframe tbody tr th:only-of-type {\n",
              "        vertical-align: middle;\n",
              "    }\n",
              "\n",
              "    .dataframe tbody tr th {\n",
              "        vertical-align: top;\n",
              "    }\n",
              "\n",
              "    .dataframe thead th {\n",
              "        text-align: right;\n",
              "    }\n",
              "</style>\n",
              "<table border=\"1\" class=\"dataframe\">\n",
              "  <thead>\n",
              "    <tr style=\"text-align: right;\">\n",
              "      <th></th>\n",
              "      <th>INCIDENT_NUMBER</th>\n",
              "      <th>OFFENSE_CODE</th>\n",
              "      <th>OFFENSE_CODE_GROUP</th>\n",
              "      <th>OFFENSE_DESCRIPTION</th>\n",
              "      <th>DISTRICT</th>\n",
              "      <th>REPORTING_AREA</th>\n",
              "      <th>SHOOTING</th>\n",
              "      <th>OCCURRED_ON_DATE</th>\n",
              "      <th>YEAR</th>\n",
              "      <th>MONTH</th>\n",
              "      <th>DAY_OF_WEEK</th>\n",
              "      <th>HOUR</th>\n",
              "      <th>UCR_PART</th>\n",
              "      <th>STREET</th>\n",
              "      <th>Lat</th>\n",
              "      <th>Long</th>\n",
              "      <th>Location</th>\n",
              "    </tr>\n",
              "  </thead>\n",
              "  <tbody>\n",
              "    <tr>\n",
              "      <th>0</th>\n",
              "      <td>I182070945</td>\n",
              "      <td>619</td>\n",
              "      <td>Larceny</td>\n",
              "      <td>LARCENY ALL OTHERS</td>\n",
              "      <td>D14</td>\n",
              "      <td>808</td>\n",
              "      <td>None</td>\n",
              "      <td>2018-09-02 13:00:00</td>\n",
              "      <td>2018</td>\n",
              "      <td>9</td>\n",
              "      <td>Sunday</td>\n",
              "      <td>13</td>\n",
              "      <td>Part One</td>\n",
              "      <td>LINCOLN ST</td>\n",
              "      <td>42.357791</td>\n",
              "      <td>-71.139371</td>\n",
              "      <td>(42.35779134, -71.13937053)</td>\n",
              "    </tr>\n",
              "    <tr>\n",
              "      <th>1</th>\n",
              "      <td>I182070943</td>\n",
              "      <td>1402</td>\n",
              "      <td>Vandalism</td>\n",
              "      <td>VANDALISM</td>\n",
              "      <td>C11</td>\n",
              "      <td>347</td>\n",
              "      <td>None</td>\n",
              "      <td>2018-08-21 00:00:00</td>\n",
              "      <td>2018</td>\n",
              "      <td>8</td>\n",
              "      <td>Tuesday</td>\n",
              "      <td>0</td>\n",
              "      <td>Part Two</td>\n",
              "      <td>HECLA ST</td>\n",
              "      <td>42.306821</td>\n",
              "      <td>-71.060300</td>\n",
              "      <td>(42.30682138, -71.06030035)</td>\n",
              "    </tr>\n",
              "    <tr>\n",
              "      <th>2</th>\n",
              "      <td>I182070941</td>\n",
              "      <td>3410</td>\n",
              "      <td>Towed</td>\n",
              "      <td>TOWED MOTOR VEHICLE</td>\n",
              "      <td>D4</td>\n",
              "      <td>151</td>\n",
              "      <td>None</td>\n",
              "      <td>2018-09-03 19:27:00</td>\n",
              "      <td>2018</td>\n",
              "      <td>9</td>\n",
              "      <td>Monday</td>\n",
              "      <td>19</td>\n",
              "      <td>Part Three</td>\n",
              "      <td>CAZENOVE ST</td>\n",
              "      <td>42.346589</td>\n",
              "      <td>-71.072429</td>\n",
              "      <td>(42.34658879, -71.07242943)</td>\n",
              "    </tr>\n",
              "    <tr>\n",
              "      <th>3</th>\n",
              "      <td>I182070940</td>\n",
              "      <td>3114</td>\n",
              "      <td>Investigate Property</td>\n",
              "      <td>INVESTIGATE PROPERTY</td>\n",
              "      <td>D4</td>\n",
              "      <td>272</td>\n",
              "      <td>None</td>\n",
              "      <td>2018-09-03 21:16:00</td>\n",
              "      <td>2018</td>\n",
              "      <td>9</td>\n",
              "      <td>Monday</td>\n",
              "      <td>21</td>\n",
              "      <td>Part Three</td>\n",
              "      <td>NEWCOMB ST</td>\n",
              "      <td>42.334182</td>\n",
              "      <td>-71.078664</td>\n",
              "      <td>(42.33418175, -71.07866441)</td>\n",
              "    </tr>\n",
              "    <tr>\n",
              "      <th>4</th>\n",
              "      <td>I182070938</td>\n",
              "      <td>3114</td>\n",
              "      <td>Investigate Property</td>\n",
              "      <td>INVESTIGATE PROPERTY</td>\n",
              "      <td>B3</td>\n",
              "      <td>421</td>\n",
              "      <td>None</td>\n",
              "      <td>2018-09-03 21:05:00</td>\n",
              "      <td>2018</td>\n",
              "      <td>9</td>\n",
              "      <td>Monday</td>\n",
              "      <td>21</td>\n",
              "      <td>Part Three</td>\n",
              "      <td>DELHI ST</td>\n",
              "      <td>42.275365</td>\n",
              "      <td>-71.090361</td>\n",
              "      <td>(42.27536542, -71.09036101)</td>\n",
              "    </tr>\n",
              "    <tr>\n",
              "      <th>...</th>\n",
              "      <td>...</td>\n",
              "      <td>...</td>\n",
              "      <td>...</td>\n",
              "      <td>...</td>\n",
              "      <td>...</td>\n",
              "      <td>...</td>\n",
              "      <td>...</td>\n",
              "      <td>...</td>\n",
              "      <td>...</td>\n",
              "      <td>...</td>\n",
              "      <td>...</td>\n",
              "      <td>...</td>\n",
              "      <td>...</td>\n",
              "      <td>...</td>\n",
              "      <td>...</td>\n",
              "      <td>...</td>\n",
              "      <td>...</td>\n",
              "    </tr>\n",
              "    <tr>\n",
              "      <th>319068</th>\n",
              "      <td>I050310906-00</td>\n",
              "      <td>3125</td>\n",
              "      <td>Warrant Arrests</td>\n",
              "      <td>WARRANT ARREST</td>\n",
              "      <td>D4</td>\n",
              "      <td>285</td>\n",
              "      <td>None</td>\n",
              "      <td>2016-06-05 17:25:00</td>\n",
              "      <td>2016</td>\n",
              "      <td>6</td>\n",
              "      <td>Sunday</td>\n",
              "      <td>17</td>\n",
              "      <td>Part Three</td>\n",
              "      <td>COVENTRY ST</td>\n",
              "      <td>42.336951</td>\n",
              "      <td>-71.085748</td>\n",
              "      <td>(42.33695098, -71.08574813)</td>\n",
              "    </tr>\n",
              "    <tr>\n",
              "      <th>319069</th>\n",
              "      <td>I030217815-08</td>\n",
              "      <td>111</td>\n",
              "      <td>Homicide</td>\n",
              "      <td>MURDER, NON-NEGLIGIENT MANSLAUGHTER</td>\n",
              "      <td>E18</td>\n",
              "      <td>520</td>\n",
              "      <td>None</td>\n",
              "      <td>2015-07-09 13:38:00</td>\n",
              "      <td>2015</td>\n",
              "      <td>7</td>\n",
              "      <td>Thursday</td>\n",
              "      <td>13</td>\n",
              "      <td>Part One</td>\n",
              "      <td>RIVER ST</td>\n",
              "      <td>42.255926</td>\n",
              "      <td>-71.123172</td>\n",
              "      <td>(42.25592648, -71.12317207)</td>\n",
              "    </tr>\n",
              "    <tr>\n",
              "      <th>319070</th>\n",
              "      <td>I030217815-08</td>\n",
              "      <td>3125</td>\n",
              "      <td>Warrant Arrests</td>\n",
              "      <td>WARRANT ARREST</td>\n",
              "      <td>E18</td>\n",
              "      <td>520</td>\n",
              "      <td>None</td>\n",
              "      <td>2015-07-09 13:38:00</td>\n",
              "      <td>2015</td>\n",
              "      <td>7</td>\n",
              "      <td>Thursday</td>\n",
              "      <td>13</td>\n",
              "      <td>Part Three</td>\n",
              "      <td>RIVER ST</td>\n",
              "      <td>42.255926</td>\n",
              "      <td>-71.123172</td>\n",
              "      <td>(42.25592648, -71.12317207)</td>\n",
              "    </tr>\n",
              "    <tr>\n",
              "      <th>319071</th>\n",
              "      <td>I010370257-00</td>\n",
              "      <td>3125</td>\n",
              "      <td>Warrant Arrests</td>\n",
              "      <td>WARRANT ARREST</td>\n",
              "      <td>E13</td>\n",
              "      <td>569</td>\n",
              "      <td>None</td>\n",
              "      <td>2016-05-31 19:35:00</td>\n",
              "      <td>2016</td>\n",
              "      <td>5</td>\n",
              "      <td>Tuesday</td>\n",
              "      <td>19</td>\n",
              "      <td>Part Three</td>\n",
              "      <td>NEW WASHINGTON ST</td>\n",
              "      <td>42.302333</td>\n",
              "      <td>-71.111565</td>\n",
              "      <td>(42.30233307, -71.11156487)</td>\n",
              "    </tr>\n",
              "    <tr>\n",
              "      <th>319072</th>\n",
              "      <td>142052550</td>\n",
              "      <td>3125</td>\n",
              "      <td>Warrant Arrests</td>\n",
              "      <td>WARRANT ARREST</td>\n",
              "      <td>D4</td>\n",
              "      <td>903</td>\n",
              "      <td>None</td>\n",
              "      <td>2015-06-22 00:12:00</td>\n",
              "      <td>2015</td>\n",
              "      <td>6</td>\n",
              "      <td>Monday</td>\n",
              "      <td>0</td>\n",
              "      <td>Part Three</td>\n",
              "      <td>WASHINGTON ST</td>\n",
              "      <td>42.333839</td>\n",
              "      <td>-71.080290</td>\n",
              "      <td>(42.33383935, -71.08029038)</td>\n",
              "    </tr>\n",
              "  </tbody>\n",
              "</table>\n",
              "<p>319073 rows × 17 columns</p>\n",
              "</div>"
            ],
            "text/plain": [
              "       INCIDENT_NUMBER  OFFENSE_CODE  ...       Long                     Location\n",
              "0           I182070945           619  ... -71.139371  (42.35779134, -71.13937053)\n",
              "1           I182070943          1402  ... -71.060300  (42.30682138, -71.06030035)\n",
              "2           I182070941          3410  ... -71.072429  (42.34658879, -71.07242943)\n",
              "3           I182070940          3114  ... -71.078664  (42.33418175, -71.07866441)\n",
              "4           I182070938          3114  ... -71.090361  (42.27536542, -71.09036101)\n",
              "...                ...           ...  ...        ...                          ...\n",
              "319068   I050310906-00          3125  ... -71.085748  (42.33695098, -71.08574813)\n",
              "319069   I030217815-08           111  ... -71.123172  (42.25592648, -71.12317207)\n",
              "319070   I030217815-08          3125  ... -71.123172  (42.25592648, -71.12317207)\n",
              "319071   I010370257-00          3125  ... -71.111565  (42.30233307, -71.11156487)\n",
              "319072       142052550          3125  ... -71.080290  (42.33383935, -71.08029038)\n",
              "\n",
              "[319073 rows x 17 columns]"
            ]
          },
          "metadata": {
            "tags": []
          },
          "execution_count": 14
        }
      ]
    },
    {
      "cell_type": "code",
      "metadata": {
        "id": "Ey-gXnCG_E0u",
        "colab_type": "code",
        "colab": {}
      },
      "source": [
        ""
      ],
      "execution_count": 0,
      "outputs": []
    }
  ]
}