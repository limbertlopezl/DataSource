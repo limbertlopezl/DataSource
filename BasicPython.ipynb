{
  "nbformat": 4,
  "nbformat_minor": 0,
  "metadata": {
    "colab": {
      "name": "BasicPython",
      "provenance": [],
      "collapsed_sections": []
    },
    "kernelspec": {
      "name": "python3",
      "display_name": "Python 3"
    }
  },
  "cells": [
    {
      "cell_type": "markdown",
      "metadata": {
        "id": "M15jTjgabj0R",
        "colab_type": "text"
      },
      "source": [
        "## Objetivo"
      ]
    },
    {
      "cell_type": "markdown",
      "metadata": {
        "id": "O5iqKPrxac61",
        "colab_type": "text"
      },
      "source": [
        "Hola ! \n",
        "\n",
        "El propósito de este notebook es mostrar la sintaxis básica de Python y de las principales librerías utilizadas para analizar y procesar datos.\n",
        "\n",
        "Contenido: \n",
        "\n",
        "*   Python\n",
        "  * Sintáxis Básica\n",
        "  * Estructuras de control\n",
        "  * Funciones\n",
        "* Scipy\n",
        "  * Numpy\n",
        "  * Matplotlib\n",
        "  * Pandas\n",
        "\n",
        "\n"
      ]
    },
    {
      "cell_type": "code",
      "metadata": {
        "id": "3LpPQMNPMyZh",
        "colab_type": "code",
        "colab": {}
      },
      "source": [
        ""
      ],
      "execution_count": 0,
      "outputs": []
    },
    {
      "cell_type": "markdown",
      "metadata": {
        "id": "TwL24tbQlpwn",
        "colab_type": "text"
      },
      "source": [
        "# Python\n",
        "\n"
      ]
    },
    {
      "cell_type": "code",
      "metadata": {
        "id": "8pGJ3ca6CUS2",
        "colab_type": "code",
        "outputId": "fa0fdeae-fe42-414c-d737-e78052db8277",
        "colab": {
          "base_uri": "https://localhost:8080/",
          "height": 34
        }
      },
      "source": [
        "# Hola mundo \n",
        "print(\"Hello World \")   # Adiciona tu nombre al mensaje "
      ],
      "execution_count": 0,
      "outputs": [
        {
          "output_type": "stream",
          "text": [
            "Hello World \n"
          ],
          "name": "stdout"
        }
      ]
    },
    {
      "cell_type": "code",
      "metadata": {
        "id": "ZdPmKFriNMmw",
        "colab_type": "code",
        "outputId": "0c4b8856-c7b5-4f4f-b451-4cf0eec21c5e",
        "colab": {
          "base_uri": "https://localhost:8080/",
          "height": 34
        }
      },
      "source": [
        "print('hola mundo, limbert')"
      ],
      "execution_count": 0,
      "outputs": [
        {
          "output_type": "stream",
          "text": [
            "hola mundo, limbert\n"
          ],
          "name": "stdout"
        }
      ]
    },
    {
      "cell_type": "markdown",
      "metadata": {
        "id": "XPylpaD6pHvW",
        "colab_type": "text"
      },
      "source": [
        "## Basic Syntax"
      ]
    },
    {
      "cell_type": "markdown",
      "metadata": {
        "id": "UA1jAncvpDKI",
        "colab_type": "text"
      },
      "source": [
        "### Comentarios"
      ]
    },
    {
      "cell_type": "code",
      "metadata": {
        "id": "9OSu8JZOCmFG",
        "colab_type": "code",
        "outputId": "dae2b252-6c6f-4226-f034-a145fc8b65e2",
        "colab": {
          "base_uri": "https://localhost:8080/",
          "height": 34
        }
      },
      "source": [
        "# Comentarios en Python\n",
        "# Comentario de una linea\n",
        "\n",
        "\"\"\" \n",
        "Comentario de \n",
        "múltiples \n",
        "líneas\n",
        "\"\"\"\n",
        "\n",
        "\"\"\" Aunque es multilinea, sólo usamos una \"\"\"\n"
      ],
      "execution_count": 0,
      "outputs": [
        {
          "output_type": "execute_result",
          "data": {
            "text/plain": [
              "' Aunque es multilinea, sólo usamos una '"
            ]
          },
          "metadata": {
            "tags": []
          },
          "execution_count": 4
        }
      ]
    },
    {
      "cell_type": "markdown",
      "metadata": {
        "id": "hDy0pUTXpcmD",
        "colab_type": "text"
      },
      "source": [
        "### Cadenas de Texto"
      ]
    },
    {
      "cell_type": "code",
      "metadata": {
        "id": "S09NtTCepHga",
        "colab_type": "code",
        "colab": {}
      },
      "source": [
        "a = \"Hello\"\n",
        "print(a[1])\n",
        "print(len(a)) # Lenght - Tamaño de la cadena de texto\n",
        "print(a)\n",
        "a"
      ],
      "execution_count": 0,
      "outputs": []
    },
    {
      "cell_type": "markdown",
      "metadata": {
        "id": "7EErwDu8qK0H",
        "colab_type": "text"
      },
      "source": [
        "### Asignaciones múltiples"
      ]
    },
    {
      "cell_type": "code",
      "metadata": {
        "id": "uTdksPohqP2t",
        "colab_type": "code",
        "outputId": "67b8a358-a534-4201-e20f-f53335bab924",
        "colab": {
          "base_uri": "https://localhost:8080/",
          "height": 68
        }
      },
      "source": [
        "b, c, d, e, f, g = 20, None, 40, False, 'hola!', True\n",
        "print(b, c, d, e, f, g)\n",
        "print(d)\n",
        "f"
      ],
      "execution_count": 0,
      "outputs": [
        {
          "output_type": "stream",
          "text": [
            "20 None 40 False hola! True\n",
            "40\n"
          ],
          "name": "stdout"
        },
        {
          "output_type": "execute_result",
          "data": {
            "text/plain": [
              "'hola!'"
            ]
          },
          "metadata": {
            "tags": []
          },
          "execution_count": 5
        }
      ]
    },
    {
      "cell_type": "markdown",
      "metadata": {
        "id": "mIMjdQfcuhYm",
        "colab_type": "text"
      },
      "source": [
        "## Estructuras de datos"
      ]
    },
    {
      "cell_type": "markdown",
      "metadata": {
        "id": "LCA3rsULuoLs",
        "colab_type": "text"
      },
      "source": [
        "### Listas\n"
      ]
    },
    {
      "cell_type": "code",
      "metadata": {
        "id": "ArKRhwi5PPEH",
        "colab_type": "code",
        "outputId": "300e9144-716c-4bc7-c8a3-2c443e594dc5",
        "colab": {
          "base_uri": "https://localhost:8080/",
          "height": 34
        }
      },
      "source": [
        "my_list = [-1, 3, 4, 6]\n",
        "print(\"Segundo elemento de la lista: \", my_list[1])"
      ],
      "execution_count": 0,
      "outputs": [
        {
          "output_type": "stream",
          "text": [
            "Segundo elemento de la lista:  3\n"
          ],
          "name": "stdout"
        }
      ]
    },
    {
      "cell_type": "code",
      "metadata": {
        "id": "JXr0TrJjul_V",
        "colab_type": "code",
        "colab": {}
      },
      "source": [
        "my_list = [-1, 3, 4, 6]\n",
        "print(\"Segundo elemento de la lista: \", my_list[1])\n",
        "\n",
        "# Adicionar un elemento a la lista\n",
        "my_list.append(8)\n",
        "print(my_list)\n",
        "\n",
        "# Adicionar múltiples elementos a la lista\n",
        "my_list.extend([-2, 10])\n",
        "print(my_list)\n",
        "\n",
        "print(\"Iteramos la lista\")\n",
        "for elem in my_list:\n",
        "  print(elem)\n"
      ],
      "execution_count": 0,
      "outputs": []
    },
    {
      "cell_type": "markdown",
      "metadata": {
        "id": "Hic7bfK0vyBa",
        "colab_type": "text"
      },
      "source": [
        "### Diccionarios"
      ]
    },
    {
      "cell_type": "code",
      "metadata": {
        "id": "ly3R7Co2v1Vu",
        "colab_type": "code",
        "colab": {}
      },
      "source": [
        "product = {'id':1, 'name': 'Pencil', 'price': 2}\n",
        "\n",
        "print(\"Precio\", product['price'])\n",
        "\n",
        "print(product.keys())\n",
        "print(product.values())\n"
      ],
      "execution_count": 0,
      "outputs": []
    },
    {
      "cell_type": "markdown",
      "metadata": {
        "id": "D2NEzRMjq8hT",
        "colab_type": "text"
      },
      "source": [
        "## Estructuras de Control"
      ]
    },
    {
      "cell_type": "markdown",
      "metadata": {
        "id": "bJYIPY86r51m",
        "colab_type": "text"
      },
      "source": [
        "### If-Then-Else"
      ]
    },
    {
      "cell_type": "code",
      "metadata": {
        "id": "kezxbINaCZ-S",
        "colab_type": "code",
        "colab": {}
      },
      "source": [
        "nota = 40\n",
        "\n",
        "if nota < 51: \n",
        "  print(\"reprobado\")\n",
        "elif nota > 90:\n",
        "  print(\"sobresaliente\")\n",
        "else:\n",
        "  print (\"aprobado\")"
      ],
      "execution_count": 0,
      "outputs": []
    },
    {
      "cell_type": "markdown",
      "metadata": {
        "id": "fKelZOm3tmJn",
        "colab_type": "text"
      },
      "source": [
        "### For Loop"
      ]
    },
    {
      "cell_type": "code",
      "metadata": {
        "id": "IecZasNvoY2-",
        "colab_type": "code",
        "colab": {}
      },
      "source": [
        "# Definamos una lista\n",
        "my_list = list(range(2, 7))\n",
        "print(my_list)\n",
        "\n",
        "for i in my_list:\n",
        "  print (\"Elemento en la lista:\", i)"
      ],
      "execution_count": 0,
      "outputs": []
    },
    {
      "cell_type": "markdown",
      "metadata": {
        "id": "Wd4GagCCt-YR",
        "colab_type": "text"
      },
      "source": [
        "### While Loop\n"
      ]
    },
    {
      "cell_type": "code",
      "metadata": {
        "id": "K4kk5F4QuBmN",
        "colab_type": "code",
        "colab": {}
      },
      "source": [
        "saldo = 6\n",
        "while saldo > 0:\n",
        "  saldo -= 1  # Equivalente a saldo = saldo - 1\n",
        "  print (\"Pago realizado. Saldo Actual:\", saldo)"
      ],
      "execution_count": 0,
      "outputs": []
    },
    {
      "cell_type": "markdown",
      "metadata": {
        "id": "-4Nd_ZZTyIZT",
        "colab_type": "text"
      },
      "source": [
        "## Funciones"
      ]
    },
    {
      "cell_type": "code",
      "metadata": {
        "id": "m3IXC-HeyNpi",
        "colab_type": "code",
        "colab": {}
      },
      "source": [
        "def cm_a_pulgadas(medida):\n",
        "  pulgadas = medida / 2.54\n",
        "  return pulgadas\n",
        "\n",
        "\n",
        "medida = 50\n",
        "pulgadas = cm_a_pulgadas(medida)\n",
        "print(\"Pulgadas :\", pulgadas)\n"
      ],
      "execution_count": 0,
      "outputs": []
    },
    {
      "cell_type": "code",
      "metadata": {
        "id": "IZB8kWFWqQP_",
        "colab_type": "code",
        "colab": {}
      },
      "source": [
        "def suma(a,b):\n",
        "  c=a+b\n",
        "  return c\n",
        "\n"
      ],
      "execution_count": 0,
      "outputs": []
    },
    {
      "cell_type": "code",
      "metadata": {
        "id": "2MR3ioilrZlJ",
        "colab_type": "code",
        "colab": {}
      },
      "source": [
        "termino1=44\n",
        "termino2=12\n",
        "resultado=suma(termino1,termino2)\n",
        "print(resultado)\n"
      ],
      "execution_count": 0,
      "outputs": []
    },
    {
      "cell_type": "markdown",
      "metadata": {
        "id": "-g-77-BJ16Sk",
        "colab_type": "text"
      },
      "source": [
        "## SciPy\n",
        "Es un ecosistema de librerías para matemáticas, ciencia e ingeniería. \n",
        "\n",
        "https://www.scipy.org/\n",
        "\n",
        "Usaremos principalmente:\n",
        "\n",
        "**Numpy**: Básicamente nos permite trabajar eficientemente con arrays\n",
        "\n",
        "**Matplotlib**: Nos permite crear visualizaciones\n",
        "\n",
        "**Pandas**: Nos permite trabajar con datasets\n",
        "\n",
        "\n"
      ]
    },
    {
      "cell_type": "markdown",
      "metadata": {
        "id": "PxNuhnTu2QPy",
        "colab_type": "text"
      },
      "source": [
        "### Numpy"
      ]
    },
    {
      "cell_type": "code",
      "metadata": {
        "id": "Q0ljb3hi166R",
        "colab_type": "code",
        "colab": {}
      },
      "source": [
        "import numpy as np"
      ],
      "execution_count": 0,
      "outputs": []
    },
    {
      "cell_type": "code",
      "metadata": {
        "id": "LRfTM8IP2Usu",
        "colab_type": "code",
        "colab": {}
      },
      "source": [
        "my_matrix = np.array([[1,2,3], [4,5,6], [7,8,9]])\n",
        "\n",
        "print(\"Tamaño de la matriz:\", my_matrix.shape)\n",
        "# Acceder a los elementos de la matriz my_matrix[row, column]\n",
        "print(\"Segundo elemento de la tercera fila: \", my_matrix[2,1])\n",
        "\n",
        "print(my_matrix)"
      ],
      "execution_count": 0,
      "outputs": []
    },
    {
      "cell_type": "markdown",
      "metadata": {
        "id": "IgT5c5gJ4A2D",
        "colab_type": "text"
      },
      "source": [
        "### Matplotlib"
      ]
    },
    {
      "cell_type": "code",
      "metadata": {
        "id": "qlRLVQe626ob",
        "colab_type": "code",
        "colab": {}
      },
      "source": [
        "import matplotlib.pyplot as plt\n",
        "%matplotlib inline \n",
        "#para que imprima en el navegador"
      ],
      "execution_count": 0,
      "outputs": []
    },
    {
      "cell_type": "code",
      "metadata": {
        "id": "YTDBvLFg3_0Y",
        "colab_type": "code",
        "colab": {}
      },
      "source": [
        "plt.plot([2,3,6],[4,5,1])\n",
        "plt.xlabel(\"Eje x\")\n",
        "plt.ylabel(\"Eje y\")\n",
        "plt.show()"
      ],
      "execution_count": 0,
      "outputs": []
    },
    {
      "cell_type": "code",
      "metadata": {
        "id": "twI-nq_d6H3y",
        "colab_type": "code",
        "colab": {}
      },
      "source": [
        "plt.scatter([2,3,6],[4,5,1])\n",
        "plt.xlabel(\"Eje x title\")\n",
        "plt.ylabel(\"Eje y title\")\n",
        "plt.show()"
      ],
      "execution_count": 0,
      "outputs": []
    },
    {
      "cell_type": "markdown",
      "metadata": {
        "id": "EWSJClOb7_RU",
        "colab_type": "text"
      },
      "source": [
        "### Pandas"
      ]
    },
    {
      "cell_type": "code",
      "metadata": {
        "id": "R9JqjViz7tNs",
        "colab_type": "code",
        "colab": {}
      },
      "source": [
        "import pandas as pd"
      ],
      "execution_count": 0,
      "outputs": []
    },
    {
      "cell_type": "code",
      "metadata": {
        "id": "R_HhlHt77-g7",
        "colab_type": "code",
        "outputId": "db1a97d8-f3de-4fbc-b378-6c1869de3066",
        "colab": {
          "base_uri": "https://localhost:8080/",
          "height": 85
        }
      },
      "source": [
        "my_matrix = np.array([['Juan','Rodriguez',25, 1500], ['Elizabeth','Barrera',19, 2000], ['Pedro','Perez',39, 3000], ['Alvaro','Serrano',29, 800]])\n",
        "print(my_matrix)\n"
      ],
      "execution_count": 0,
      "outputs": [
        {
          "output_type": "stream",
          "text": [
            "[['Juan' 'Rodriguez' '25' '1500']\n",
            " ['Elizabeth' 'Barrera' '19' '2000']\n",
            " ['Pedro' 'Perez' '39' '3000']\n",
            " ['Alvaro' 'Serrano' '29' '800']]\n"
          ],
          "name": "stdout"
        }
      ]
    },
    {
      "cell_type": "code",
      "metadata": {
        "id": "EtNYs9KUvcFB",
        "colab_type": "code",
        "outputId": "a0c14d40-85a9-4a89-ea9d-ff6064dc4dab",
        "colab": {
          "base_uri": "https://localhost:8080/",
          "height": 173
        }
      },
      "source": [
        "my_df = pd.DataFrame(data=my_matrix, columns=['Nombre', 'Apellido', 'Edad', 'Salario'])\n",
        "my_df\n"
      ],
      "execution_count": 0,
      "outputs": [
        {
          "output_type": "execute_result",
          "data": {
            "text/html": [
              "<div>\n",
              "<style scoped>\n",
              "    .dataframe tbody tr th:only-of-type {\n",
              "        vertical-align: middle;\n",
              "    }\n",
              "\n",
              "    .dataframe tbody tr th {\n",
              "        vertical-align: top;\n",
              "    }\n",
              "\n",
              "    .dataframe thead th {\n",
              "        text-align: right;\n",
              "    }\n",
              "</style>\n",
              "<table border=\"1\" class=\"dataframe\">\n",
              "  <thead>\n",
              "    <tr style=\"text-align: right;\">\n",
              "      <th></th>\n",
              "      <th>Nombre</th>\n",
              "      <th>Apellido</th>\n",
              "      <th>Edad</th>\n",
              "      <th>Salario</th>\n",
              "    </tr>\n",
              "  </thead>\n",
              "  <tbody>\n",
              "    <tr>\n",
              "      <th>0</th>\n",
              "      <td>Juan</td>\n",
              "      <td>Rodriguez</td>\n",
              "      <td>25</td>\n",
              "      <td>1500</td>\n",
              "    </tr>\n",
              "    <tr>\n",
              "      <th>1</th>\n",
              "      <td>Elizabeth</td>\n",
              "      <td>Barrera</td>\n",
              "      <td>19</td>\n",
              "      <td>2000</td>\n",
              "    </tr>\n",
              "    <tr>\n",
              "      <th>2</th>\n",
              "      <td>Pedro</td>\n",
              "      <td>Perez</td>\n",
              "      <td>39</td>\n",
              "      <td>3000</td>\n",
              "    </tr>\n",
              "    <tr>\n",
              "      <th>3</th>\n",
              "      <td>Alvaro</td>\n",
              "      <td>Serrano</td>\n",
              "      <td>29</td>\n",
              "      <td>800</td>\n",
              "    </tr>\n",
              "  </tbody>\n",
              "</table>\n",
              "</div>"
            ],
            "text/plain": [
              "      Nombre   Apellido Edad Salario\n",
              "0       Juan  Rodriguez   25    1500\n",
              "1  Elizabeth    Barrera   19    2000\n",
              "2      Pedro      Perez   39    3000\n",
              "3     Alvaro    Serrano   29     800"
            ]
          },
          "metadata": {
            "tags": []
          },
          "execution_count": 6
        }
      ]
    },
    {
      "cell_type": "code",
      "metadata": {
        "id": "KbWpEbJBZInN",
        "colab_type": "code",
        "colab": {}
      },
      "source": [
        ""
      ],
      "execution_count": 0,
      "outputs": []
    },
    {
      "cell_type": "code",
      "metadata": {
        "id": "vn20ivxV8bR1",
        "colab_type": "code",
        "outputId": "931611e8-82b8-4ded-fe1d-575b77f96725",
        "colab": {
          "base_uri": "https://localhost:8080/",
          "height": 102
        }
      },
      "source": [
        "#  Seleccionar una columna\n",
        "# Forma 1\n",
        "my_df['Nombre']\n",
        "\n"
      ],
      "execution_count": 0,
      "outputs": [
        {
          "output_type": "execute_result",
          "data": {
            "text/plain": [
              "0         Juan\n",
              "1    Elizabeth\n",
              "2        Pedro\n",
              "3       Alvaro\n",
              "Name: Nombre, dtype: object"
            ]
          },
          "metadata": {
            "tags": []
          },
          "execution_count": 7
        }
      ]
    },
    {
      "cell_type": "code",
      "metadata": {
        "id": "sSQlMlgc8kdh",
        "colab_type": "code",
        "outputId": "449a709c-1677-4424-fec8-dc1391cec273",
        "colab": {
          "base_uri": "https://localhost:8080/",
          "height": 102
        }
      },
      "source": [
        "#  Seleccionar una columna\n",
        "# Forma 2, si tiene espacio el nombre no funciona\n",
        "my_df.Nombre"
      ],
      "execution_count": 0,
      "outputs": [
        {
          "output_type": "execute_result",
          "data": {
            "text/plain": [
              "0         Juan\n",
              "1    Elizabeth\n",
              "2        Pedro\n",
              "3       Alvaro\n",
              "Name: Nombre, dtype: object"
            ]
          },
          "metadata": {
            "tags": []
          },
          "execution_count": 17
        }
      ]
    },
    {
      "cell_type": "code",
      "metadata": {
        "id": "3VCK_UQ98wsW",
        "colab_type": "code",
        "outputId": "c98fdd80-6dcc-4f5f-93ab-10b15b71f3a0",
        "colab": {
          "base_uri": "https://localhost:8080/",
          "height": 102
        }
      },
      "source": [
        "# Tipos de datos en el dataset\n",
        "my_df.dtypes"
      ],
      "execution_count": 0,
      "outputs": [
        {
          "output_type": "execute_result",
          "data": {
            "text/plain": [
              "Nombre      object\n",
              "Apellido    object\n",
              "Edad        object\n",
              "Salario     object\n",
              "dtype: object"
            ]
          },
          "metadata": {
            "tags": []
          },
          "execution_count": 18
        }
      ]
    },
    {
      "cell_type": "code",
      "metadata": {
        "id": "N5XvMoyq9Q41",
        "colab_type": "code",
        "colab": {}
      },
      "source": [
        "# Cambiaremos la columna Edad a tipo numérico de string\n",
        "my_df['Edad'] = my_df['Edad'].astype(int)\n",
        "my_df.dtypes"
      ],
      "execution_count": 0,
      "outputs": []
    },
    {
      "cell_type": "code",
      "metadata": {
        "id": "StAL4HPa9pR7",
        "colab_type": "code",
        "colab": {}
      },
      "source": [
        "print(\"Edad promedio: \", my_df['Edad'].mean() )"
      ],
      "execution_count": 0,
      "outputs": []
    },
    {
      "cell_type": "markdown",
      "metadata": {
        "id": "bG36K5PG-WfA",
        "colab_type": "text"
      },
      "source": [
        "### Cargando datos a partir de un CSV"
      ]
    },
    {
      "cell_type": "code",
      "metadata": {
        "id": "K-wy3E4I9t0o",
        "colab_type": "code",
        "colab": {}
      },
      "source": [
        "csv_url = \"https://data.cityofnewyork.us/api/views/25th-nujf/rows.csv?accessType=DOWNLOAD\"\n",
        "# Es importante configurar\n",
        "# Si el csv tiene header, el tipo de separador que usa, y si los valores llevan \"\" ó no\n",
        "\n",
        "df = pd.read_csv(csv_url, delimiter=',' )\n",
        "df.head()"
      ],
      "execution_count": 0,
      "outputs": []
    },
    {
      "cell_type": "code",
      "metadata": {
        "id": "Bj6OLZ8OWug0",
        "colab_type": "code",
        "colab": {}
      },
      "source": [
        "df.tail()"
      ],
      "execution_count": 0,
      "outputs": []
    },
    {
      "cell_type": "code",
      "metadata": {
        "id": "G4SvCcNO97Os",
        "colab_type": "code",
        "colab": {}
      },
      "source": [
        "df.shape"
      ],
      "execution_count": 0,
      "outputs": []
    },
    {
      "cell_type": "code",
      "metadata": {
        "id": "D7Q7rwkqXNPZ",
        "colab_type": "code",
        "colab": {}
      },
      "source": [
        "df.describe()"
      ],
      "execution_count": 0,
      "outputs": []
    },
    {
      "cell_type": "markdown",
      "metadata": {
        "id": "t-OtlS4Ar95P",
        "colab_type": "text"
      },
      "source": [
        "# Tarea\n",
        "\n",
        "Ejercicios:\n",
        "\n",
        "1. Define una lista con valores de 62 al 94 e imprime los números pares\n",
        "\n",
        "2. Crea una función que identifique si una persona puede votar en base a su edad.\n",
        "\n",
        "3. Para el dataset \"df\" que contiene la información 'Nombre', 'Apellido', 'Edad' y 'Salario' grafica la 'Edad' versus el 'Salario'"
      ]
    },
    {
      "cell_type": "code",
      "metadata": {
        "id": "isJMzAl4XGgK",
        "colab_type": "code",
        "colab": {}
      },
      "source": [
        "#Ejercicio 1\n",
        "my_list = list(range(62, 94))\n",
        "print(my_list)\n",
        "\n",
        "for i in my_list:\n",
        "  if(i%2==0):\n",
        "   print(\"Elemento en la lista:\", i)\n"
      ],
      "execution_count": 0,
      "outputs": []
    },
    {
      "cell_type": "code",
      "metadata": {
        "id": "Yyyo3qMdXmV2",
        "colab_type": "code",
        "outputId": "2df19fdb-c3e2-4020-e20a-79a5a6a3a92d",
        "colab": {
          "base_uri": "https://localhost:8080/",
          "height": 34
        }
      },
      "source": [
        "#Ejercicio 2\n",
        "\n",
        "def puede_votar(edad):\n",
        "  if edad < 18: \n",
        "    return 'no'\n",
        "  elif edad > 18:\n",
        "   return 'si'\n",
        "\n",
        "print(puede_votar(20))"
      ],
      "execution_count": 0,
      "outputs": [
        {
          "output_type": "stream",
          "text": [
            "si\n"
          ],
          "name": "stdout"
        }
      ]
    },
    {
      "cell_type": "code",
      "metadata": {
        "id": "ZMv21oGSU9nl",
        "colab_type": "code",
        "outputId": "d6853e78-9c05-43c1-bd6f-3d7c84fa54b4",
        "colab": {
          "base_uri": "https://localhost:8080/",
          "height": 279
        }
      },
      "source": [
        "plt.plot(my_df['Edad'],my_df['Salario'])\n",
        "plt.xlabel(\"Edad\")\n",
        "plt.ylabel(\"Salario\")\n",
        "plt.show()"
      ],
      "execution_count": 0,
      "outputs": [
        {
          "output_type": "display_data",
          "data": {
            "image/png": "[encoded data removed]",
            "text/plain": [
              "<Figure size 432x288 with 1 Axes>"
            ]
          },
          "metadata": {
            "tags": []
          }
        }
      ]
    }
  ]
}